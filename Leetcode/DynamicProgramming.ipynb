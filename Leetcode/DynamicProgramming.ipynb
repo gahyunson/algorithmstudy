{
 "cells": [
  {
   "cell_type": "markdown",
   "metadata": {},
   "source": [
    "# Dynamic Programming\n",
    "Divide and Conquer과 상반되는 내용\n",
    "\n",
    "- 상향식, bottom to up 접근 방법\n",
    "- 크기가 작은 문제의 해를 (다시 사용할 수 있으므로)저장, 이를 이용하여 큰 문제의 해를 점진적으로 만들어감\n",
    "- 각 작은 문제는 원래의 문제와 동일, 입력의 크기가 줄어든 것\n",
    "- 작은 문제의 해가 필요할 때마다 바로 사용\n",
    "- 최적화 문제(max/min)에 사용\n",
    "- 최적성의 원리 priciple of optimality 를 반드시 만족해야 함\n",
    "\n",
    "- 피보나치 수열\n",
    "- 연쇄 행렬 곱셈\n",
    "- 스트링 편집 거리\n",
    "- 모든 정점의 최단 경로\n",
    "- 저울 문제\n",
    "\n",
    "### 피보나치 수열\n",
    "if n>=2:\n",
    "    f(n) = f(n-1)+f(n-2)\n",
    "elif n==0:\n",
    "    f(0)=0\n",
    "elif n==1:\n",
    "    f(1)=1\n",
    "\n",
    "So, f(5) = f(4)+f(3) = f(3)+f(2) + f(2)+f(1) \n",
    "= f(2)+f(1) + f(1)+f(0) + f(1)+f(0) + f(1) \n",
    "= f(1)+f(0)+f(1) + f(1)+f(0) + f(1)+f(0) + f(1)\n",
    "= f(1)*5 + f(0)*3\n",
    "= 1*5 +0*3 = 5\n",
    "\n",
    "### 509. Fibonacci Number\n",
    "|Runtime                           |Memory                           |\n",
    "|----------------------------------|---------------------------------|\n",
    "|337ms                              |17.08MB                          |\n",
    "|Beats 31.61% of users with Python3|Beats 37.59% of users with Python3|"
   ]
  },
  {
   "cell_type": "code",
   "execution_count": null,
   "metadata": {},
   "outputs": [],
   "source": [
    "class Solution:\n",
    "    def fib(self, n: int) -> int:\n",
    "        if n==0:\n",
    "            return 0\n",
    "        elif n==1:\n",
    "            return 1\n",
    "        else:\n",
    "            return self.fib(n-1)+self.fib(n-2)"
   ]
  },
  {
   "cell_type": "markdown",
   "metadata": {},
   "source": [
    "\n",
    "### 연쇄 행렬 곱셈\n",
    "\n",
    "\n",
    "### 스트링 편집 거리\n",
    "### 모든 정점의 최단 경로\n",
    "### 저울 문제"
   ]
  }
 ],
 "metadata": {
  "language_info": {
   "name": "python"
  }
 },
 "nbformat": 4,
 "nbformat_minor": 2
}
