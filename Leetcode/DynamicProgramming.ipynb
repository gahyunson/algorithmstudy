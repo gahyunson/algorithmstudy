{
 "cells": [
  {
   "cell_type": "markdown",
   "metadata": {},
   "source": [
    "# Dynamic Programming\n",
    "Divide and Conquer과 상반되는 내용\n",
    "\n",
    "- 상향식, bottom to up 접근 방법\n",
    "- 크기가 작은 문제의 해를 (다시 사용할 수 있으므로)저장, 이를 이용하여 큰 문제의 해를 점진적으로 만들어감\n",
    "- 각 작은 문제는 원래의 문제와 동일, 입력의 크기가 줄어든 것\n",
    "- 작은 문제의 해가 필요할 때마다 바로 사용\n",
    "- 최적화 문제(max/min)에 사용\n",
    "- 최적성의 원리 priciple of optimality 를 반드시 만족해야 함\n",
    "\n",
    "- 피보나치 수열\n",
    "- 연쇄 행렬 곱셈\n",
    "- 스트링 편집 거리\n",
    "- 모든 정점의 최단 경로\n",
    "- 저울 문제\n",
    "\n",
    "### 피보나치 수열\n",
    "if n>=2:\n",
    "    f(n) = f(n-1)+f(n-2)\n",
    "elif n==0:\n",
    "    f(0)=0\n",
    "elif n==1:\n",
    "    f(1)=1\n",
    "\n",
    "So, f(5) = f(4)+f(3) = f(3)+f(2) + f(2)+f(1) \n",
    "= f(2)+f(1) + f(1)+f(0) + f(1)+f(0) + f(1) \n",
    "= f(1)+f(0)+f(1) + f(1)+f(0) + f(1)+f(0) + f(1)\n",
    "= f(1)*5 + f(0)*3\n",
    "= 1*5 +0*3 = 5\n",
    "\n",
    "### 509. Fibonacci Number\n",
    "|Runtime                           |Memory                           |\n",
    "|----------------------------------|---------------------------------|\n",
    "|337ms                              |17.08MB                          |\n",
    "|Beats 31.61% of users with Python3|Beats 37.59% of users with Python3|"
   ]
  },
  {
   "cell_type": "code",
   "execution_count": null,
   "metadata": {},
   "outputs": [],
   "source": [
    "class Solution:\n",
    "    def fib(self, n: int) -> int:\n",
    "        if n==0:\n",
    "            return 0\n",
    "        elif n==1:\n",
    "            return 1\n",
    "        else:\n",
    "            return self.fib(n-1)+self.fib(n-2)"
   ]
  },
  {
   "cell_type": "markdown",
   "metadata": {},
   "source": [
    "\n",
    "### Matrix chain multiplication 연쇄 행렬 곱셈\n",
    "여러 행렬을 모두 곱셈할 때, 연산을 최소한으로 실행할 수 있는 __곱셈 순서__ 를 찾는 Algorithm!\n",
    "\n",
    "A = pxq , B = qxr , C = rxs\n",
    "(A*B)*C = pxqxr + pxrxs \n",
    "A*(B*C) = pxrxs + qxrxs\n",
    "\n",
    "위 두 연산의 결과는 다르다. 순서에 따라 달라진다 == 더 좋은 방법과 더 안좋은 방법이 있다. => 더 좋은 방법을 찾는것!\n",
    "연쇄행렬 최소제곱 알고리즘 점화식을 이용하여 가장 결과 수가 적은 것을 고르면 된다.\n",
    "\n",
    "\n",
    "\n",
    "\n",
    "### String edit distance/Levenshtein distance 스트링 편집 거리\n",
    "- Distance between String X and String Y , 두 문자열의 유사도 측정 \n",
    "- String X에서 String Y로 변환하는 방법에 대한 minimum cost\n",
    "\n",
    "**Optimality Principle 최적성의 원리**\n",
    "edit 계산 방법\n",
    "- insert, delete, replace cost == all '1'\n",
    "\n",
    "\n"
   ]
  },
  {
   "cell_type": "code",
   "execution_count": 7,
   "metadata": {},
   "outputs": [
    {
     "name": "stdout",
     "output_type": "stream",
     "text": [
      "D T\n",
      "A T\n",
      "D T\n",
      "A T\n",
      "O T\n",
      "D A\n",
      "A A\n",
      "D A\n",
      "A A\n",
      "O A\n",
      "D T\n",
      "A T\n",
      "D T\n",
      "A T\n",
      "O T\n",
      "D A\n",
      "A A\n",
      "D A\n",
      "A A\n",
      "O A\n",
      "D O\n",
      "A O\n",
      "D O\n",
      "A O\n",
      "O O\n"
     ]
    }
   ],
   "source": [
    "def stringedit(s:str, t:str):\n",
    "    m = len(s)+1\n",
    "    n = len(t)+1\n",
    "    D = [[0]*m for _ in range(n)]\n",
    "    # print(D)\n",
    "    D[0][0] = 0\n",
    "    \n",
    "    for i in range(1, m):\n",
    "        D[0][i] = D[0][i-1] + 1\n",
    "        # print(\"D[0][{0}]\".format(i),D[0][i])\n",
    "    \n",
    "    for j in range(1, n):\n",
    "        D[j][0] = D[j-1][0] + 1\n",
    "        # print(\"D[{0}][0]\".format(j),[j][0])\n",
    "        \n",
    "    for i in range(1, n):\n",
    "        for j in range(1, m):\n",
    "            cost = 0\n",
    "            print(s[j-1], t[i-1])\n",
    "            if s[j-1] != t[i-1]:\n",
    "                cost = 1\n",
    "            D[i][j] = min(D[i][j-1] + 1, D[i-1][j] + 1, D[i-1][j-1] + cost)\n",
    "stringedit(s=\"DADAO\", t=\"TATAO\")"
   ]
  },
  {
   "cell_type": "markdown",
   "metadata": {},
   "source": [
    "### 모든 정점의 최단 경로\n",
    "\n",
    "\n",
    "\n",
    "\n",
    "\n",
    "### 저울 문제\n"
   ]
  }
 ],
 "metadata": {
  "kernelspec": {
   "display_name": "mywork",
   "language": "python",
   "name": "python3"
  },
  "language_info": {
   "codemirror_mode": {
    "name": "ipython",
    "version": 3
   },
   "file_extension": ".py",
   "mimetype": "text/x-python",
   "name": "python",
   "nbconvert_exporter": "python",
   "pygments_lexer": "ipython3",
   "version": "3.7.13"
  }
 },
 "nbformat": 4,
 "nbformat_minor": 2
}
