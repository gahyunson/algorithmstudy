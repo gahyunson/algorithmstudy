{
 "cells": [
  {
   "cell_type": "markdown",
   "metadata": {},
   "source": [
    "Graph and... Tree!\n",
    "1. 연결 그래프이다. 컴포넌트가 하나이다. \n",
    "2. 싸이클이 존재하지 않는다.\n",
    "3. 트리의 간선 개수 = 트리의 정점 개수 - 1\n",
    "\n",
    "\n",
    "싸이클은 없지만 모든 노드는 연결되어있다.\n",
    "\n",
    "차수 : 자신 바로 아래레벨에 연결된 노드 갯수\n",
    "\n"
   ]
  },
  {
   "cell_type": "code",
   "execution_count": null,
   "metadata": {},
   "outputs": [],
   "source": []
  }
 ],
 "metadata": {
  "language_info": {
   "name": "python"
  }
 },
 "nbformat": 4,
 "nbformat_minor": 2
}
