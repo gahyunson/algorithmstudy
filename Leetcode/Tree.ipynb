{
 "cells": [
  {
   "cell_type": "markdown",
   "metadata": {},
   "source": [
    "Graph and... Tree!\n",
    "1. 연결 그래프이다. 컴포넌트가 하나이다. \n",
    "2. 싸이클이 존재하지 않는다.\n",
    "3. 트리의 간선 개수 = 트리의 정점 개수 - 1\n",
    "\n",
    "\n",
    "싸이클은 없지만 모든 노드는 연결되어있다.\n",
    "\n",
    "차수 : 자신 바로 아래레벨에 연결된 노드 갯수\n",
    "차수가 3이라면 3진트리\n",
    "\n",
    "Sub Tree : Tree 속의 부분 Tree\n",
    "트리의 자식이 트리.... -> 재귀적 성질 "
   ]
  },
  {
   "attachments": {
    "image.png": {
     "image/png": "[encoded data removed]"
    }
   },
   "cell_type": "markdown",
   "metadata": {},
   "source": [
    "Graph를 순회하는 방법 \n",
    "1. DFS\n",
    "2. BFS\n",
    "\n",
    "Tree를 순회하는 방법\n",
    "1. preorder traversal 전위 순회\n",
    "2. inorder traversal 중위 순회\n",
    "3. postorder traversal 후위 순회\n",
    "4. levelorder traversal 레벨 순회\n",
    "5. ...\n",
    "\n",
    "![image.png](attachment:image.png)\n",
    "\n"
   ]
  },
  {
   "cell_type": "code",
   "execution_count": 17,
   "metadata": {},
   "outputs": [
    {
     "name": "stdout",
     "output_type": "stream",
     "text": [
      "okay\n",
      "<built-in method keys of dict object at 0x1106066c0> <built-in method values of dict object at 0x1106066c0>\n"
     ]
    }
   ],
   "source": [
    "children = {\n",
    "    0: [1, 2],\n",
    "    1: [3, 4],\n",
    "    2: [5, 6],\n",
    "    5: [7],\n",
    "    6: None\n",
    "    \n",
    "}\n",
    "if 0 in children:\n",
    "    print(\"okay\")\n",
    "if 3 in children[0]:\n",
    "    print(\"3 okay\")\n",
    "if 3 in children:\n",
    "    print(\"3 33\")\n",
    "if children[6]:\n",
    "    print(666)\n",
    "print(children.keys, children.values)"
   ]
  },
  {
   "cell_type": "code",
   "execution_count": 5,
   "metadata": {},
   "outputs": [
    {
     "name": "stdout",
     "output_type": "stream",
     "text": [
      "original root is 0 and children is {0: [1, 2], 1: [3, 4], 2: [5, 6], 5: [7]}\n",
      "c is 1\n",
      "original root is 1 and children is {0: [1, 2], 1: [3, 4], 2: [5, 6], 5: [7]}\n",
      "c is 3\n",
      "original root is 3 and children is {0: [1, 2], 1: [3, 4], 2: [5, 6], 5: [7]}\n",
      "not in\n",
      "------------------------------------------------------------\n",
      "temp result is 2 **********\n",
      "c is 4\n",
      "original root is 4 and children is {0: [1, 2], 1: [3, 4], 2: [5, 6], 5: [7]}\n",
      "not in\n",
      "------------------------------------------------------------\n",
      "temp result is 2 **********\n",
      "********************\n",
      "result root is 1 and children is {0: [1, 2], 1: [3, 4], 2: [5, 6], 5: [7]}\n",
      "temp result is 3 **********\n",
      "c is 2\n",
      "original root is 2 and children is {0: [1, 2], 1: [3, 4], 2: [5, 6], 5: [7]}\n",
      "c is 5\n",
      "original root is 5 and children is {0: [1, 2], 1: [3, 4], 2: [5, 6], 5: [7]}\n",
      "c is 7\n",
      "original root is 7 and children is {0: [1, 2], 1: [3, 4], 2: [5, 6], 5: [7]}\n",
      "not in\n",
      "------------------------------------------------------------\n",
      "temp result is 2 **********\n",
      "********************\n",
      "result root is 5 and children is {0: [1, 2], 1: [3, 4], 2: [5, 6], 5: [7]}\n",
      "temp result is 3 **********\n",
      "c is 6\n",
      "original root is 6 and children is {0: [1, 2], 1: [3, 4], 2: [5, 6], 5: [7]}\n",
      "not in\n",
      "------------------------------------------------------------\n",
      "temp result is 3 **********\n",
      "********************\n",
      "result root is 2 and children is {0: [1, 2], 1: [3, 4], 2: [5, 6], 5: [7]}\n",
      "temp result is 4 **********\n",
      "********************\n",
      "result root is 0 and children is {0: [1, 2], 1: [3, 4], 2: [5, 6], 5: [7]}\n",
      "The height of the tree is: 4\n"
     ]
    }
   ],
   "source": [
    "# 재귀함수 사용하는 방법\n",
    "def get_height(root, children):\n",
    "    print(\"original root is\",root, \"and children is\",children)\n",
    "\n",
    "    # root로 설정한 값이 dict key값에 있거나, 아니면 해당 root가 자식노드가 있는지?\n",
    "    if root not in children or not children[root]:\n",
    "        print(\"not in\")\n",
    "        print(\"-\"*60)\n",
    "        return 1\n",
    "    \n",
    "    result=1\n",
    "    for c in children[root]:\n",
    "        print(\"c is\",c)\n",
    "        result=max(result, get_height(c, children)+1) # +1 하는 이유는 한 level당 1개 높이를 추가해서 총 높이를 확인하는 방법 \n",
    "        print(\"temp result is\",result,\"*\"*10)\n",
    "        \n",
    "    print(\"*\"*20)\n",
    "    print(\"result root is\",root, \"and children is\",children)\n",
    "    return result\n",
    "children = {\n",
    "    0: [1, 2],\n",
    "    1: [3, 4],\n",
    "    2: [5, 6],\n",
    "    5: [7]\n",
    "    \n",
    "}\n",
    "\n",
    "height = get_height(0, children)\n",
    "print(f\"The height of the tree is: {height}\")"
   ]
  },
  {
   "cell_type": "code",
   "execution_count": null,
   "metadata": {},
   "outputs": [],
   "source": [
    "class Node:\n",
    "\n",
    "    def __init__(self, data):\n",
    "        self.left = None\n",
    "        self.right = None\n",
    "        self.data = data\n",
    "\n",
    "    def PrintTree(self):\n",
    "        print(self.data)"
   ]
  },
  {
   "cell_type": "code",
   "execution_count": null,
   "metadata": {},
   "outputs": [],
   "source": [
    "val=0, left=(val==1, left=(val=... left=(val=0, left=None, right=None)), right = "
   ]
  },
  {
   "cell_type": "markdown",
   "metadata": {},
   "source": [
    "# Binary Tree\n",
    "\n",
    "Root    \n",
    "Left, Right    \n",
    ": Left < Root > Right\n",
    "\n",
    "- Perfect binary tree \n",
    "- Complete binary tree\n",
    "\n",
    "N개의 정점의 트리\n",
    "- O(logN)\n",
    "- worst : O(N)\n",
    "\n",
    "- balanced tree 를 이용하여 worst에서 벗어나게 할 수 있음\n",
    "\n",
    "### Binary tree insert\n",
    "root에서부터 크기 비교하면서 Letf , Right 어디에 위치시킬 건지 보면 됨\n",
    "\n",
    "### delete\n",
    "1. leaf node의 경우\n",
    "해당 leaf node만 delete\n",
    "\n",
    "2. 자식 노드가 하나 있는 경우\n",
    "자식 노드와 부모 노드를 이어준다.\n",
    "\n",
    "3. 자식 노드가 둘 있는 경우\n",
    "해당 노드의 자식 노드 둘 중 아무거나가 해당 노드의 자리로 올라간다.\n",
    "둘 중 아무거나란? 왼쪽과 오른쪽에서 하나씩 고르는데, \n",
    "왼쪽은 해당 노드와 가장 가깝게 작아야하고,\n",
    "오른쪽은 해당 노드와 가장 가깝게 더 커야한다."
   ]
  },
  {
   "cell_type": "code",
   "execution_count": null,
   "metadata": {},
   "outputs": [],
   "source": []
  }
 ],
 "metadata": {
  "kernelspec": {
   "display_name": "envs",
   "language": "python",
   "name": "python3"
  },
  "language_info": {
   "codemirror_mode": {
    "name": "ipython",
    "version": 3
   },
   "file_extension": ".py",
   "mimetype": "text/x-python",
   "name": "python",
   "nbconvert_exporter": "python",
   "pygments_lexer": "ipython3",
   "version": "3.9.6"
  }
 },
 "nbformat": 4,
 "nbformat_minor": 2
}
