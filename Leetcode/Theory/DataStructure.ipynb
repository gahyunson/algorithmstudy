{
 "cells": [
  {
   "cell_type": "markdown",
   "metadata": {},
   "source": [
    "# Array And Linked list\n",
    "\n",
    "### Linked list\n",
    "head node -> node1 -> node2 -> null\n",
    "\n",
    "1. insert\n",
    "1) head node -> node1 -x-> node2 -> null    \n",
    "node1에서 node2로 향하는 포인트 삭제\n",
    "2) head node -> node1 -> node1.5 -> node2 -> null    \n",
    "node1에서 node1.5로 향하는 포인트 추가,    \n",
    "node1.5에서 node2로 향하는 포인트 추가\n",
    "\n",
    "2. delete\n",
    "1) head node -x-> node1 -x-> node2 -> null    \n",
    "head node에서 node1로 향하는 것과 node1에서 node2로 향하는 포인트 삭제, node1 삭제\n",
    "2) head node -> node2 -> null    \n",
    "\n",
    "- 반복문을 이용하여 풀 수 있다.\n",
    "- 특정 노드 지정안하면 complexity : O(n)\n",
    "- 특정 노드 지정 complexity : O(1)\n",
    "\n",
    "어느 위치의 노드를 지정하지 않으면 전체 노드를 돌아야 하기 때문에,    \n",
    "n개의 node를 봐야해서, **complexity는 O(n)**이 된다.\n",
    "특정 노드를 지정하면 해당 위치의 노드만 보면돼서 O(1)이 된다.\n",
    "\n",
    "Random access 불가능, K번째 값을 찾으려면 head부터 포인터를 따라가야한다.\n",
    "\n",
    "### Array\n",
    "K번째 새로운 값을 추가/삭제하면, O(N-K) 복잡도가 나온다.\n",
    "\n",
    "Random access 가능, complexity: O(1)\n",
    "\n",
    "---\n",
    "Random access 필요유무에 따라, linked list, array 어떤걸 사용하는게 나을 지 결정할 수 있을 것"
   ]
  },
  {
   "cell_type": "code",
   "execution_count": null,
   "metadata": {},
   "outputs": [],
   "source": [
    "class ListNode:\n",
    "    def __init__(self, val=0, next=None):\n",
    "        self.val = val\n",
    "        self.next = next \n",
    "\n",
    "class LinkedList:\n",
    "    def __init__(self, val):\n",
    "        self.head = None(val)\n",
    "    \n",
    "    def append(self, val):\n",
    "        cur = self.head\n",
    "        while cur.next is not None:\n",
    "            cur = cur.next \n",
    "        cur.next = Node(item)"
   ]
  },
  {
   "cell_type": "markdown",
   "metadata": {},
   "source": [
    "# Stack\n",
    "LIFO (Last In First Out)    \n",
    "특성 한쪽에서만 insert, delete 연산이 이루어진다 -> 연결리스트로 구현 -> 연산 모두 O(1)이 됨    \n",
    "연결 리스트 구현 시, head node 부분만 insert, pop 작업이 진행됨     \n",
    "\n",
    "stack = []\n"
   ]
  },
  {
   "cell_type": "code",
   "execution_count": 9,
   "metadata": {},
   "outputs": [
    {
     "name": "stdout",
     "output_type": "stream",
     "text": [
      "i and h 0 2\n",
      "stack []\n",
      "i and h 1 1\n",
      "stack [0]\n",
      "height and width 2 1\n",
      "max_area 2\n",
      "i and h 2 5\n",
      "stack [1]\n",
      "i and h 3 6\n",
      "stack [1, 2]\n",
      "i and h 4 2\n",
      "stack [1, 2, 3]\n",
      "height and width 6 1\n",
      "max_area 6\n",
      "height and width 5 2\n",
      "max_area 10\n",
      "i and h 5 3\n",
      "stack [1, 4]\n",
      "i and h 6 0\n",
      "stack [1, 4, 5]\n",
      "height and width 3 1\n",
      "max_area 10\n",
      "height and width 2 4\n",
      "max_area 10\n",
      "height and width 1 6\n",
      "max_area 10\n"
     ]
    },
    {
     "data": {
      "text/plain": [
       "10"
      ]
     },
     "execution_count": 9,
     "metadata": {},
     "output_type": "execute_result"
    }
   ],
   "source": [
    "def largestRectangleArea(histogram):\n",
    "    stack=[]\n",
    "    max_area=0\n",
    "    \n",
    "    for i, h in enumerate(histogram + [0]):\n",
    "        print(\"i and h\", i, h)\n",
    "        print(\"stack\",stack)\n",
    "        while stack and histogram[stack[-1]] > h:\n",
    "            \n",
    "            height = histogram[stack.pop()]\n",
    "            width = i if not stack else i-stack[-1]-1\n",
    "            print(\"height and width\",height,width)\n",
    "            max_area = max(max_area, height*width)\n",
    "            print(\"max_area\",max_area)\n",
    "        stack.append(i)\n",
    "        \n",
    "    return max_area₩\n",
    "histogram = [2,1,5,6,2,3]\n",
    "largestRectangleArea(histogram)"
   ]
  },
  {
   "cell_type": "code",
   "execution_count": null,
   "metadata": {},
   "outputs": [],
   "source": []
  }
 ],
 "metadata": {
  "kernelspec": {
   "display_name": "mywork",
   "language": "python",
   "name": "python3"
  },
  "language_info": {
   "codemirror_mode": {
    "name": "ipython",
    "version": 3
   },
   "file_extension": ".py",
   "mimetype": "text/x-python",
   "name": "python",
   "nbconvert_exporter": "python",
   "pygments_lexer": "ipython3",
   "version": "3.7.13"
  }
 },
 "nbformat": 4,
 "nbformat_minor": 2
}
