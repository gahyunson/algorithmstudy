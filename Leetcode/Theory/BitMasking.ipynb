{
 "cells": [
  {
   "cell_type": "markdown",
   "metadata": {},
   "source": [
    "# Bit Masking\n",
    "- Bit 단위로 값을 보존하는 것 \n",
    "\n",
    "전체 정점의 갯수 N이 아주 작은 값일 때 문제를 해결하는 방법.\n",
    "\n",
    "if N==4:    \n",
    "    4 bit 정수 사용 , 범위는 0000(2)~1111(2) , 즉 0~15 , 경우의 수 16개.\n",
    "\n",
    "아무 정점도 방문하지 않았을 땐, 0000(2)로 시작    \n",
    "0번 정점을 방문한 상태일 땐, 0001(2)로 시작    \n",
    "bit가 0인지 확인 - 0과 비교    \n",
    "1인지 확인 - 2^(N-1)과 비교"
   ]
  },
  {
   "cell_type": "markdown",
   "metadata": {},
   "source": [
    "exponential time and memory가 소요될 수 있으므로 small constrains가 있어야 한다!    \n",
    "Bit Mask = 이진수를 나타내는 무언가\n",
    "\n",
    "A = {1,2,3,4,5} 일 때, bitmask를 이용한 A 집합의 길이는 5이다.    \n",
    "bit mask가 01010일때는 부분집합 {2,4}를 표현한 것이다.    \n",
    "여기서 집합 요소 1을 포함하고 싶다면 bit mask 10000값과 01010값을 집합연산 OR처리하면 된다.\n",
    "\n",
    "OR을 이용하여 삽입이 가능하다. 01010 -> 11111    \n",
    "    01010 | 00001 = 01011\n",
    "NOT을 이용하여 삭제가 가능하다. 11111 -> 00011\n",
    "    01010 & 01000 = 01000\n",
    "i번째 bit 값을 알고 싶다면, &와 shift <<기능을 이용하게 되는데, \n",
    "1010 & (1<<2) 에서 1<<2는 1을 왼쪽으로 2bit shift하는 것이라, 0100(2) , 4(10)이 된다.\n",
    "1010 & 0100 = 0 은 2번째 bit 값이 0임을 나타낸다.\n",
    "\n",
    "\n",
    "정수로 값을 변경하면 바로 어떤 부분집합인지 알 수 있다.\n",
    "bit mask가 01010이라면?\n",
    "01010 -> 2^4*0 + 2^3*1 + 2^2*0 + 2^1*1 + 2^0*0 = 9\n",
    "01010을 정수로 표현하면 9이다. 정수 9는 01010이다.\n",
    "\n",
    "### Traveling Salesman problem \n",
    "- Dynamic programming + Bit masking\n",
    "- O(2^n*n) , space O(2^n)\n",
    "\n",
    "현재 도시 current\n",
    "방문한 도시 집합 visited -> 배열로 관리하기 어려움 -> bit mask 사용\n",
    "각 도시에 이동하는데 드는 비용 행렬 W[i][j]\n",
    "i에서 j로 가기 위한 비용, 경우에 따라 i에서 j로 갈 수 없을 수도 있다.\n",
    "W[i][j] != W[j][i]\n",
    "모든 비용은 양의 정수,\n",
    "W[i][i]==0\n",
    "\n",
    "도시 0 ~ 7개 존재\n",
    "current = 3\n",
    "visited 배열 = [0,1,2,3] -> bit mask = [00001111]\n",
    "최소비용 = W[3][00001111] = W[3][9] 을 재사용할 수 있다는 장점이 있다. \n",
    "\n",
    "여기서 아직 방문하지 않은 도시들을 더 처리하고 싶다면 \n",
    "다음 도시를 방문했을 경우 i번째 비트 값을 1로 변경 (OR) 처리하면서 아직 방문하지 않은 부분의 최소비용 + 구해둔 최소비용을 활용할 수 있겠다.\n",
    "\n",
    "dp[i][mask] = min(dp[i][mask], dp[visited][prev_mask] + W[i][visited])\n",
    "i도시 방문하기전 상태 : prev_mask\n",
    "궁금한 것 : mask\n",
    "\n"
   ]
  },
  {
   "cell_type": "code",
   "execution_count": null,
   "metadata": {},
   "outputs": [],
   "source": []
  }
 ],
 "metadata": {
  "language_info": {
   "name": "python"
  }
 },
 "nbformat": 4,
 "nbformat_minor": 2
}
