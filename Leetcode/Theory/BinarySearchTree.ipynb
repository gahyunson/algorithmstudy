{
 "cells": [
  {
   "cell_type": "markdown",
   "metadata": {},
   "source": [
    "May 8 2024\n",
    "I choose Binary Search Tree as my subject.\n",
    "\n"
   ]
  },
  {
   "cell_type": "code",
   "execution_count": null,
   "metadata": {},
   "outputs": [],
   "source": []
  }
 ],
 "metadata": {
  "language_info": {
   "name": "python"
  }
 },
 "nbformat": 4,
 "nbformat_minor": 2
}
