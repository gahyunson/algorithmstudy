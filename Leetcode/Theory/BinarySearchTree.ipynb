{
 "cells": [
  {
   "cell_type": "markdown",
   "metadata": {},
   "source": [
    "May 8 2024\n",
    "I choose Binary Search Tree as my subject.\n",
    "\n",
    "pre-order traversal ... 세가지 경우의 코드 어떻게 짜야하는지 보기.\n",
    "\n",
    "### Pre-order traversal\n",
    "root, left, right    "
   ]
  },
  {
   "cell_type": "code",
   "execution_count": null,
   "metadata": {},
   "outputs": [],
   "source": [
    "def preorder(root):\n",
    "    if root:\n",
    "        print(root.val, end=\" \")\n",
    "        preorder(root.left)\n",
    "        preorder(root.right)\n"
   ]
  },
  {
   "cell_type": "code",
   "execution_count": null,
   "metadata": {},
   "outputs": [],
   "source": [
    "# Python program for preorder traversals\n",
    "\n",
    "# Structure of a Binary Tree Node\n",
    "class Node:\n",
    "    def __init__(self, v):\n",
    "        self.data = v\n",
    "        self.left = None\n",
    "        self.right = None\n",
    "\n",
    "# Function to print preorder traversal\n",
    "def printPreorder(node):\n",
    "    if node is None:\n",
    "        return\n",
    "\n",
    "    # Deal with the node\n",
    "    print(node.data, end=' ')\n",
    "\n",
    "    # Recur on left subtree\n",
    "    printPreorder(node.left)\n",
    "\n",
    "    # Recur on right subtree\n",
    "    printPreorder(node.right)\n",
    "\n",
    "\n",
    "# Driver code\n",
    "if __name__ == '__main__':\n",
    "    root = Node(1)\n",
    "    root.left = Node(2)\n",
    "    root.right = Node(3)\n",
    "    root.left.left = Node(4)\n",
    "    root.left.right = Node(5)\n",
    "    root.right.right = Node(6)\n",
    "\n",
    "    # Function call\n",
    "    print(\"Preorder traversal of binary tree is:\")\n",
    "    printPreorder(root)\n"
   ]
  }
 ],
 "metadata": {
  "language_info": {
   "name": "python"
  }
 },
 "nbformat": 4,
 "nbformat_minor": 2
}
