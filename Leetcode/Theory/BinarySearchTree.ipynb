{
 "cells": [
  {
   "cell_type": "markdown",
   "metadata": {},
   "source": [
    "May 8 2024\n",
    "I choose Binary Search Tree as my subject.\n",
    "\n",
    "pre-order traversal ... 세가지 경우의 코드 어떻게 짜야하는지 보기."
   ]
  },
  {
   "cell_type": "code",
   "execution_count": null,
   "metadata": {},
   "outputs": [],
   "source": []
  }
 ],
 "metadata": {
  "language_info": {
   "name": "python"
  }
 },
 "nbformat": 4,
 "nbformat_minor": 2
}
