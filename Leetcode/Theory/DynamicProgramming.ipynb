{
 "cells": [
  {
   "cell_type": "markdown",
   "metadata": {},
   "source": [
    "# Dynamic Programming\n",
    "(Divide and Conquer과 상반되는 내용)    \n",
    "작은 문제의 해를 이용해서 큰 문제의 해를 구할 수 있는 경우 사용하는 알고리즘 \n",
    "-> 작은 문제의 해를 메모해두고(Memozation) 이용할 수 있다\n",
    "\n",
    "- ~~상향식, bottom to up 접근 방법~~ Top-Down, Bottom-Up 두 방법이 있음    \n",
    "~~- Top-Down은 Memozation 이용~~    \n",
    "~~- Bottom-Up은 tabulation 이용~~\n",
    "\n",
    "~~- 크기가 작은 문제의 해를 (다시 사용할 수 있으므로)저장, 이를 이용하여 큰 문제의 해를 점진적으로 만들어감~~    \n",
    "- ~~각 작은 문제는 원래의 문제와 동일, 입력의 크기가 줄어든 것~~    \n",
    "~~- 작은 문제의 해가 필요할 때마다 바로 사용~~    \n",
    "- 최적화 문제(max/min)에 사용\n",
    "- 최적성의 원리 priciple of optimality 를 반드시 만족해야 함\n",
    "\n",
    "### Kind of DP\n",
    "- 피보나치 수열\n",
    "- 연쇄 행렬 곱셈\n",
    "- 스트링 편집 거리\n",
    "- 모든 정점의 최단 경로\n",
    "- 저울 문제\n",
    "\n",
    "### Memorization\n",
    " Top Down\n",
    "- 큰 문제를 작은 문제로 나눈다\n",
    "- _작은 문제를 풀어 저장(캐싱)한다 (중복 계산 방지)_\n",
    "- 작은 문제 해를 이용해 큰 문제를 푼다\n",
    "- 재귀적 구조\n",
    "- _Recursive Call_\n",
    "- caution : check the value's exist in memozation before recursive call\n",
    "\n",
    "### Tabulation\n",
    " Bottom Up\n",
    "- 크기가 작은 문제부터 차례로 푼다\n",
    "- 작은 문제부터 풀면 큰 문제는 항상 풀 수 있다\n",
    "- 모든 문제를 풀 수 있다\n",
    "- _반복문으로 하위 문제 해결하여 이를 저장_\n",
    "- _저장된 해를 이용하여 큰 문제를 푼다_\n",
    "\n",
    "아래 피보나치 수열의 경우 5번째 피보나치 수를 구하는 문제라면,\n",
    "5개의 변수의 개수만큼 메모하는 배열을 만든다.\n",
    "\n",
    "\n",
    "### Fibonacci Number 피보나치 수열\n",
    "if n>=2:\n",
    "    f(n) = f(n-1)+f(n-2)\n",
    "elif n==0:\n",
    "    f(0)=0\n",
    "elif n==1:\n",
    "    f(1)=1\n",
    "\n",
    "So, f(5) = f(4)+f(3) = f(3)+f(2) + f(2)+f(1)     \n",
    "= f(2)+f(1) + f(1)+f(0) + f(1)+f(0) + f(1)      \n",
    "= f(1)+f(0)+f(1) + f(1)+f(0) + f(1)+f(0) + f(1)      \n",
    "= f(1)*5 + f(0)*3      \n",
    "= 1*5 +0*3 = 5\n",
    "\n",
    "### 509. Fibonacci Number\n",
    "- f(0)과 f(1)의 해가 주어진 상태로, Memoization을 이용해서 풀 수 있다. \n",
    "- Memoization은 재귀적 구조로 풀 수 있다.\n",
    "\n",
    "|Runtime                           |Memory                           |\n",
    "|----------------------------------|---------------------------------|\n",
    "|337ms                              |17.08MB                          |\n",
    "|Beats 31.61% of users with Python3|Beats 37.59% of users with Python3|"
   ]
  },
  {
   "cell_type": "code",
   "execution_count": null,
   "metadata": {},
   "outputs": [],
   "source": [
    "class Solution:\n",
    "    def fib(self, n: int) -> int:\n",
    "        if n==0:\n",
    "            return 0\n",
    "        elif n==1:\n",
    "            return 1\n",
    "        else:\n",
    "            return self.fib(n-1)+self.fib(n-2)"
   ]
  },
  {
   "cell_type": "code",
   "execution_count": 2,
   "metadata": {},
   "outputs": [
    {
     "name": "stdout",
     "output_type": "stream",
     "text": [
      "0\n",
      "1\n",
      "2\n",
      "3\n",
      "4\n",
      "5\n"
     ]
    },
    {
     "data": {
      "text/plain": [
       "True"
      ]
     },
     "execution_count": 2,
     "metadata": {},
     "output_type": "execute_result"
    }
   ],
   "source": [
    "class Test:\n",
    "    def test(self, n: int) -> bool:\n",
    "        print(n)\n",
    "        if n==5:\n",
    "            return True\n",
    "        else:\n",
    "            n+=1\n",
    "            return self.test(n)\n",
    "Test().test(0)"
   ]
  },
  {
   "cell_type": "code",
   "execution_count": null,
   "metadata": {},
   "outputs": [],
   "source": [
    "# Recursion\n",
    "class Solution:\n",
    "    def climbStairs(self, n: int) -> int:\n",
    "        if n==1:\n",
    "            return 1\n",
    "        elif n==2:\n",
    "            return 2\n",
    "        elif n>2:\n",
    "            return self.climbStairs(n-1)+self.climbStairs(n-2)\n",
    "        \n",
    "# Tabulation\n",
    "class Solution:\n",
    "    def climbStairs(self, n: int) -> int:\n",
    "        dp=[0]*(n+1)\n",
    "        dp[1]=1\n",
    "        dp[0]=1\n",
    "\n",
    "        for i in range(2, n+1):\n",
    "            dp[i] = dp[i-1]+dp[i-2]\n",
    "        \n",
    "        return dp[n]"
   ]
  },
  {
   "cell_type": "code",
   "execution_count": null,
   "metadata": {},
   "outputs": [],
   "source": [
    "# Recursion\n",
    "class Solution:\n",
    "    def climbStairs(self, n: int) -> int:\n",
    "        if n == 0 or n == 1:\n",
    "            return 1\n",
    "        return self.climbStairs(n-1) + self.climbStairs(n-2)\n",
    "# XXXX Time Limit Exceeded XXXX \n",
    "\n",
    "# 아래 방법으로 수정하여 사용 가능\n",
    "# Memoization\n",
    "class Solution:\n",
    "    def climbStairs(self, n: int) -> int:\n",
    "        memo = {}\n",
    "        return self.helper(n, memo)\n",
    "    \n",
    "    def helper(self, n: int, memo: dict[int, int]) -> int:\n",
    "        if n == 0 or n == 1:\n",
    "            return 1\n",
    "        if n not in memo:\n",
    "            memo[n] = self.helper(n-1, memo) + self.helper(n-2, memo)\n",
    "        return memo[n]"
   ]
  },
  {
   "cell_type": "code",
   "execution_count": null,
   "metadata": {},
   "outputs": [],
   "source": [
    "# Space Optimization\n",
    "# 가장 빠른 방법\n",
    "class Solution:\n",
    "    def climbStairs(self, n: int) -> int:\n",
    "        if n == 0 or n == 1:\n",
    "            return 1\n",
    "        prev, curr = 1, 1\n",
    "        for i in range(2, n+1):\n",
    "            temp = curr\n",
    "            curr = prev + curr\n",
    "            prev = temp\n",
    "        return curr"
   ]
  },
  {
   "cell_type": "markdown",
   "metadata": {},
   "source": [
    "\n",
    "### Matrix chain multiplication 연쇄 행렬 곱셈\n",
    "여러 행렬을 모두 곱셈할 때, 연산을 최소한으로 실행할 수 있는 __곱셈 순서__ 를 찾는 Algorithm!\n",
    "\n",
    "A = pxq , B = qxr , C = rxs    \n",
    "(A*B)*C = pxqxr + pxrxs    \n",
    "A*(B*C) = pxrxs + qxrxs\n",
    "\n",
    "위 두 연산의 결과는 다르다. 순서에 따라 달라진다 == 더 좋은 방법과 더 안좋은 방법이 있다. => 더 좋은 방법을 찾는것!    \n",
    "연쇄행렬 최소제곱 알고리즘 점화식을 이용하여 가장 결과 수가 적은 것을 고르면 된다."
   ]
  },
  {
   "cell_type": "markdown",
   "metadata": {},
   "source": [
    "XXXX Time Limit Exceeded XXXX"
   ]
  },
  {
   "cell_type": "code",
   "execution_count": null,
   "metadata": {},
   "outputs": [],
   "source": [
    "class Solution:\n",
    "    def minScoreTriangulation(self, values: List[int]) -> int:\n",
    "        def dp(i, j):\n",
    "            m = float('inf')\n",
    "            for k in range(i+1, j):\n",
    "                m = min(m, values[i]*values[k]*values[j] + dp(i,k) + dp(k,j))\n",
    "            \n",
    "            if m==float('inf'):\n",
    "                return 0\n",
    "            return m\n",
    "        return dp(0, len(values)-1)\n"
   ]
  },
  {
   "cell_type": "code",
   "execution_count": 14,
   "metadata": {},
   "outputs": [
    {
     "name": "stdout",
     "output_type": "stream",
     "text": [
      "dp(2,4): subproblem(2,3) + subproblem(3,4) + 3 * 4 * 5 = 60\n",
      "dp(1,4): subproblem(1,2) + subproblem(2,4) + 2 * 3 * 5 = 90\n",
      "dp(1,3): subproblem(1,2) + subproblem(2,3) + 2 * 3 * 4 = 24\n",
      "dp(1,4): subproblem(1,3) + subproblem(3,4) + 2 * 4 * 5 = 64\n",
      "dp(0,4): subproblem(0,1) + subproblem(1,4) + 1 * 2 * 5 = 74\n",
      "dp(0,2): subproblem(0,1) + subproblem(1,2) + 1 * 2 * 3 = 6\n",
      "dp(2,4): subproblem(2,3) + subproblem(3,4) + 3 * 4 * 5 = 60\n",
      "dp(0,4): subproblem(0,2) + subproblem(2,4) + 1 * 3 * 5 = 81\n",
      "dp(1,3): subproblem(1,2) + subproblem(2,3) + 2 * 3 * 4 = 24\n",
      "dp(0,3): subproblem(0,1) + subproblem(1,3) + 1 * 2 * 4 = 32\n",
      "dp(0,2): subproblem(0,1) + subproblem(1,2) + 1 * 2 * 3 = 6\n",
      "dp(0,3): subproblem(0,2) + subproblem(2,3) + 1 * 3 * 4 = 18\n",
      "dp(0,4): subproblem(0,3) + subproblem(3,4) + 1 * 4 * 5 = 38\n",
      "Final Minimum Score: 38\n"
     ]
    }
   ],
   "source": [
    "from typing import List\n",
    "\n",
    "\n",
    "class Solution:\n",
    "    def minScoreTriangulation(self, values: List[int]) -> int:\n",
    "        def dp(i, j):\n",
    "            m = float('inf')\n",
    "            for k in range(i+1, j):\n",
    "                subproblem_score = values[i]*values[k]*values[j] + dp(i,k) + dp(k,j)\n",
    "                print(f\"dp({i},{j}): subproblem({i},{k}) + subproblem({k},{j}) + {values[i]} * {values[k]} * {values[j]} = {subproblem_score}\")\n",
    "                m = min(m, subproblem_score)\n",
    "            \n",
    "            if m==float('inf'):\n",
    "                return 0\n",
    "            return m\n",
    "        \n",
    "        return dp(0, len(values)-1)\n",
    "\n",
    "# Example usage:\n",
    "values = [1, 2, 3, 4, 5]\n",
    "solution = Solution()\n",
    "output = solution.minScoreTriangulation(values)\n",
    "print(\"Final Minimum Score:\", output)\n"
   ]
  },
  {
   "cell_type": "markdown",
   "metadata": {},
   "source": [
    "### String edit distance/Levenshtein distance 스트링 편집 거리\n",
    "- Distance between String X and String Y , 두 문자열의 유사도 측정 \n",
    "- String X에서 String Y로 변환하는 방법에 대한 minimum cost\n",
    "\n",
    "**Optimality Principle 최적성의 원리**\n",
    "edit 계산 방법\n",
    "- insert, delete, replace cost == all '1'\n"
   ]
  },
  {
   "cell_type": "code",
   "execution_count": 7,
   "metadata": {},
   "outputs": [
    {
     "name": "stdout",
     "output_type": "stream",
     "text": [
      "D T\n",
      "A T\n",
      "D T\n",
      "A T\n",
      "O T\n",
      "D A\n",
      "A A\n",
      "D A\n",
      "A A\n",
      "O A\n",
      "D T\n",
      "A T\n",
      "D T\n",
      "A T\n",
      "O T\n",
      "D A\n",
      "A A\n",
      "D A\n",
      "A A\n",
      "O A\n",
      "D O\n",
      "A O\n",
      "D O\n",
      "A O\n",
      "O O\n"
     ]
    }
   ],
   "source": [
    "# TEATAO , DADAO \n",
    "\n",
    "class Solution:\n",
    "    def minDistance(self, word1:str, word2:str) -> int:\n",
    "        m, n = len(word1), len(word2)\n",
    "        \n",
    "        dp = [[0]*(n+1) for _ in range(m + 1)]\n",
    "        \n",
    "        for i in range(m+1):\n",
    "            for j in range(n+1):\n",
    "                if i ==0:\n",
    "                    dp[i][j]=j\n",
    "                elif j==0:\n",
    "                    dp[i][j]=i\n",
    "                elif word1[i-1]==word2[j-1]:\n",
    "                    dp[i][j]=dp[i-1][j-1]\n",
    "                else:\n",
    "                    dp[i][j]=1+min(dp[i-1][j],\n",
    "                                   dp[i][j-1],\n",
    "                                   dp[i-1],[j-1])\n",
    "        return dp[m][n]"
   ]
  },
  {
   "cell_type": "markdown",
   "metadata": {},
   "source": [
    "### 모든 정점의 최단 경로\n",
    "단일 출발점 최단 경로 : 하나의 특정 정점에서 다른 모든 정점으로의 최단 경로    \n",
    "(데이크스트라 알고리즘 욕심쟁이 방법)\n",
    "\n",
    "모든 정점 간의 최단 경로 (플로이드 알고리즘)\n",
    "\n",
    "- 가중치의 합이 음수인 사이클이 존재하지 않는다\n",
    "- 경유할 수 있는 정점의 범위가 1인 경로부터 시작해서 |V|까지인 경로까지 하나씩 범위를 늘려가면서 모든 정점간의 최단 경로를 한꺼번에 구한다\n",
    "- 가중치 => 인접 행렬로 표현\n",
    "- 인접 행렬 \n",
    "\n",
    "\n",
    "\n",
    "\n",
    "### 저울 문제\n",
    "**Optility Principle**\n",
    "- n개의 추로 무게 M인 물체를 확인하는 문제\n",
    "- 추와 물체의 무게는 정수여야함\n",
    "\n",
    "1 ~ i번의 추를 이용하여 무게 M을 만들 수 있는가?\n",
    "\n"
   ]
  },
  {
   "cell_type": "markdown",
   "metadata": {},
   "source": [
    "욕심쟁이 방법 "
   ]
  }
 ],
 "metadata": {
  "kernelspec": {
   "display_name": "mywork",
   "language": "python",
   "name": "python3"
  },
  "language_info": {
   "codemirror_mode": {
    "name": "ipython",
    "version": 3
   },
   "file_extension": ".py",
   "mimetype": "text/x-python",
   "name": "python",
   "nbconvert_exporter": "python",
   "pygments_lexer": "ipython3",
   "version": "3.7.13"
  }
 },
 "nbformat": 4,
 "nbformat_minor": 2
}
