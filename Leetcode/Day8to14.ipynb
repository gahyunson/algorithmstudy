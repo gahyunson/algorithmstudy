{
 "cells": [
  {
   "cell_type": "markdown",
   "metadata": {},
   "source": [
    "# Day 8 (Sep 18)\n",
    "### 2. Add Two Numbers\n",
    "It is about ListNode. I can use the values of ListNode.\n",
    "... "
   ]
  },
  {
   "cell_type": "code",
   "execution_count": 13,
   "metadata": {},
   "outputs": [
    {
     "name": "stdout",
     "output_type": "stream",
     "text": [
      "0 <__main__.ListNode object at 0x7fb88810e790> 2 None\n"
     ]
    }
   ],
   "source": [
    "class ListNode:\n",
    "    def __init__(self, val=0, next=None):\n",
    "        self.val = val\n",
    "        self.next = next\n",
    "head = ListNode(0)\n",
    "head.next = ListNode(1) \n",
    "current = head.next \n",
    "current.next = ListNode(2)\n",
    "current = current.next\n",
    "print(head.val , head.next , current.val, current.next)"
   ]
  },
  {
   "cell_type": "code",
   "execution_count": 12,
   "metadata": {},
   "outputs": [
    {
     "name": "stdout",
     "output_type": "stream",
     "text": [
      "0\n",
      "2\n",
      "1\n"
     ]
    },
    {
     "data": {
      "text/plain": [
       "<__main__.ListNode at 0x7fb8870a5d90>"
      ]
     },
     "execution_count": 12,
     "metadata": {},
     "output_type": "execute_result"
    }
   ],
   "source": [
    "class ListNode:\n",
    "    def __init__(self, val=0, next=None):\n",
    "        self.val = val\n",
    "        self.next = next\n",
    "        \n",
    "head = ListNode(0)\n",
    "curr_node = head\n",
    "\n",
    "new_node = ListNode(2)\n",
    "curr_node.next = new_node\n",
    "curr_node = curr_node.next\n",
    "\n",
    "curr_node.next = ListNode(1)\n",
    "curr_node = curr_node.next \n",
    "\n",
    "node = head\n",
    "while node:\n",
    "    print(node.val)\n",
    "    node = node.next\n",
    "head.next"
   ]
  },
  {
   "cell_type": "markdown",
   "metadata": {},
   "source": [
    "# Day 9 (Sep 20)\n",
    "### 169. Majority Element\n",
    "I just wanna count all the values , because I have been analysis the data with python.\n",
    "There was so many columns and values , I can count each values. and then I can visualize the data.\n",
    "That's why I was thought I wanna know the count of all values. \n",
    "But there was hint for easy way. All the list have the count of majoristic value is always more than half of list length. If I look at the middle index value of the list , the value of major element always fill more than half of value length. \n",
    "\n",
    "\n",
    "The majority element is the element that appears more than [n/2] times. You may assume that the majority element always exists in the array.\n",
    "-> we can use index [n/2]\n",
    "-> we don't think about the same count of values"
   ]
  },
  {
   "cell_type": "code",
   "execution_count": 14,
   "metadata": {},
   "outputs": [],
   "source": [
    "class Solution:\n",
    "    def majorityElement(self, nums: List[int]) -> int:\n",
    "        n = len(nums)\n",
    "\n",
    "        dis_nums = set(nums)\n",
    "        result = dict()\n",
    "\n",
    "        for dis in dis_nums:\n",
    "            result[dis] = 0\n",
    "\n",
    "        for num in nums:\n",
    "            result[num] += 1\n",
    "\n",
    "        for res in result:\n",
    "            if result[res] == max(result.values()):\n",
    "                return res\n",
    "        \n",
    "        return nums[n//2]\n",
    "        "
   ]
  },
  {
   "cell_type": "code",
   "execution_count": null,
   "metadata": {},
   "outputs": [],
   "source": [
    "class Solution:\n",
    "    def majorityElement(self, nums: List[int]) -> int:\n",
    "        nums.sort()\n",
    "        n = len(nums)\n",
    "    \n",
    "        return nums[n//2]\n",
    "        "
   ]
  },
  {
   "cell_type": "markdown",
   "metadata": {},
   "source": [
    "# Day 10. (Sep 21)\n",
    "### 283. Move Zeroes\n",
    "Move all 0's to the end of an array nums. The first code is my solution, and the second one is someone else's solution on LeetCode.\n",
    "\n",
    "I want to move the indices of 0 values to the end of the array. In my initial solution, I remove a 0 value and add it to the end. However, this solution has a runtime of 781 ms. I believe the reason for this is that I perform calculations twice within a for loop. I think I can reduce the runtime by minimizing the calculations.\n",
    "\n",
    "There is an alternative solution: if a value is not 0, initialize the array with that value, and if the value is 0, skip it. In the last step, append a 0 value to the array to account for the remaining length."
   ]
  },
  {
   "cell_type": "code",
   "execution_count": null,
   "metadata": {},
   "outputs": [],
   "source": [
    "class Solution:\n",
    "    def moveZeroes(self, nums: List[int]) -> None:\n",
    "        \"\"\"\n",
    "        Do not return anything, modify nums in-place instead.\n",
    "        \"\"\"\n",
    "        \"\"\"for num in nums:\n",
    "            if num == 0:\n",
    "                nums.remove(num)\n",
    "                nums.append(num)\n",
    "            else:\n",
    "                pass\"\"\"\n",
    "        \n",
    "        index = 0\n",
    "        for num in nums:\n",
    "            if num != 0:\n",
    "                nums[index] = num\n",
    "                index += 1\n",
    "        while index < len(nums):\n",
    "            nums[index] = 0\n",
    "            index += 1\n",
    "        \n"
   ]
  },
  {
   "cell_type": "markdown",
   "metadata": {},
   "source": [
    "# Day 10 (Sep 22)\n",
    "### 977. Squares of a Sorted Array\n",
    "\n",
    "I solved this problem using sorting. \n",
    "\n",
    "The given code aims to square each element of the input integer list 'nums', then sort the resulting squared values in ascending order, and finally return the sorted list.\n",
    "\n",
    "1. Suqaring the Elements\n",
    "- The code starts by iterating through each element of the input list 'nums' using a list comprehension.\n",
    "- It squares each element using the expression 'num**2' and stores the squared values in a new list.\n",
    "\n",
    "2. Sorting the Squared Values\n",
    "- After obtaining the squared values, the code proceeds to sort the new list in ascending order.\n",
    "- This is achieved using the 'sort()' method, which arranges the elements in non-decreasing order.\n",
    "\n",
    "3. Returning the Sorted List\n",
    "- Finally, the code returns the sorted list of squared values as the result of the 'sortedSquares' function.\n",
    "\n",
    "complexity : O(n+n*log(n))"
   ]
  },
  {
   "cell_type": "code",
   "execution_count": null,
   "metadata": {},
   "outputs": [],
   "source": [
    "class Solution:\n",
    "    def sortedSquares(self, nums: List[int]) -> List[int]:\n",
    "        nums = [num**2 for num in nums]\n",
    "        nums.sort()\n",
    "        return nums\n",
    "        "
   ]
  },
  {
   "cell_type": "markdown",
   "metadata": {},
   "source": [
    "# Day 11 (Sep 23)\n",
    "### 232. Implement Queue using Stacks\n",
    "What I noticed in this part ...\n",
    "\n",
    "I noticed that when removing or appending elements to the front of array, the indices shift for each operation. \n",
    "That's why we can effectively utilize two stacks. \n",
    "\n",
    "I've designed the 'peek' function in a way that it eliminates the need to reverse the array. If I remove the last element of stack2 , I don't need to remove indices of the array. I just pop the last of array.\n",
    "\n",
    "To determine the front of the array, we can always rely on the last index, which is consistently -1."
   ]
  },
  {
   "cell_type": "code",
   "execution_count": null,
   "metadata": {},
   "outputs": [],
   "source": [
    "class MyQueue:\n",
    "\n",
    "    def __init__(self):\n",
    "        self.stack1 = []\n",
    "        self.stack2 = []\n",
    "\n",
    "    def push(self, x: int) -> None:\n",
    "        self.stack1.append(x)\n",
    "        \n",
    "\n",
    "    def pop(self) -> int:\n",
    "        self.peek()\n",
    "        return self.stack2.pop() \n",
    "        # pop() 하여 마지막 인덱스 값만 없앰으로써 인덱스값 이동 작업을 없앰\n",
    "        \n",
    "\n",
    "    def peek(self) -> int:\n",
    "        if not self.stack2:\n",
    "            while self.stack1:\n",
    "                self.stack2.append(self.stack1.pop())\n",
    "        return self.stack1[-1]\n",
    "\n",
    "    def empty(self) -> bool:\n",
    "        return not self.stack1 and not self.stack2\n",
    "\n",
    "\"\"\"\n",
    "2개의 스택을 이용해서, FIFO 할 것\n",
    "push, peek, pop, empty 작동이 될 것\n",
    "push : x 값이 큐의 마지막에 오게할 것\n",
    "pop : 가장 앞의 값을 없애고 그 값을 리턴할 것\n",
    "peek : 가장 앞의 값 리턴\n",
    "boolean empty : 큐가 비었는지 확인\n",
    "\n",
    "\"\"\"\n",
    "# Your MyQueue object will be instantiated and called as such:\n",
    "# obj = MyQueue()\n",
    "# obj.push(x)\n",
    "# param_2 = obj.pop()\n",
    "# param_3 = obj.peek()\n",
    "# param_4 = obj.empty()"
   ]
  },
  {
   "cell_type": "markdown",
   "metadata": {},
   "source": [
    "# Day 12 (Sep 29)\n",
    "### 844. Backspace String Compare\n",
    "\n",
    "I used index and if loop.   \n",
    "I restack the 's', 't' value to new stacks. I added a character and if the character is '#' reintitialed string by control index 0 to before last index.    \n",
    "I noticed the '#' character always after a number. \n",
    "\n",
    "a time complexity of O(len(s) + len(t)) and a space complexity of O(len(s) + len(t))\n",
    "\n",
    "Runtime : 36ms Beats 74.39%of users with Python3    \n",
    "Memory : 16.07MB Beats 98.98%of users with Python3"
   ]
  },
  {
   "cell_type": "code",
   "execution_count": 2,
   "metadata": {},
   "outputs": [
    {
     "data": {
      "text/plain": [
       "False"
      ]
     },
     "execution_count": 2,
     "metadata": {},
     "output_type": "execute_result"
    }
   ],
   "source": [
    "class Solution:\n",
    "    def backspaceCompare(self, s: str, t: str) -> bool:\n",
    "        s_x = \"\"\n",
    "        for cha in s:\n",
    "            if cha != '#':\n",
    "                s_x += cha\n",
    "            else:\n",
    "                s_x = s_x[:-1]\n",
    "        \n",
    "        t_x = \"\"\n",
    "        for cha in t:\n",
    "            if cha != '#':\n",
    "                t_x += cha\n",
    "            else:\n",
    "                t_x = t_x[:-1]\n",
    "        \n",
    "        if s_x == t_x:\n",
    "            return True\n",
    "        else:\n",
    "            return False\n",
    "Solution().backspaceCompare(s=\"a#c\", t=\"b\")"
   ]
  },
  {
   "cell_type": "markdown",
   "metadata": {},
   "source": [
    "# Day 13 (Sep 30)\n",
    "### 206. Reverse Linked List\n",
    "이 문제는 원본인 head 값을 계속해서 수정해나가고, 원본의 값을 따로 저장하여 사용하는 방법이었다.    \n",
    "The solution involved continuously modifying the 'head' value and using the saved value of the original 'head' to another objects. "
   ]
  },
  {
   "cell_type": "code",
   "execution_count": 8,
   "metadata": {},
   "outputs": [
    {
     "ename": "SyntaxError",
     "evalue": "invalid syntax (1716895848.py, line 18)",
     "output_type": "error",
     "traceback": [
      "\u001b[0;36m  File \u001b[0;32m\"/var/folders/0s/knzc6bzs1l9dgw6x4k24t9740000gn/T/ipykernel_52079/1716895848.py\"\u001b[0;36m, line \u001b[0;32m18\u001b[0m\n\u001b[0;31m    Solution().reverseList(head=ListNode{val: 1, next: ListNode{val: 2, next: ListNode{val: 3, next: ListNode{val: 4, next: ListNode{val: 5, next: None}}}}})\u001b[0m\n\u001b[0m                                        ^\u001b[0m\n\u001b[0;31mSyntaxError\u001b[0m\u001b[0;31m:\u001b[0m invalid syntax\n"
     ]
    }
   ],
   "source": [
    "# Definition for singly-linked list.\n",
    "from typing import Optional, List\n",
    "# Definition for singly-linked list.\n",
    "class ListNode:\n",
    "    def __init__(self, val=0, next=None):\n",
    "        self.val = val\n",
    "        self.next = next\n",
    "class Solution:\n",
    "    def reverseList(self, head: Optional[ListNode]) -> Optional[ListNode]:\n",
    "        output_node = None\n",
    "\n",
    "        while head:\n",
    "            next = head.next\n",
    "            head.next = output_node\n",
    "            output_node = head\n",
    "            head = next\n",
    "        return output_node"
   ]
  },
  {
   "cell_type": "markdown",
   "metadata": {},
   "source": [
    "# Day 14 (Oct 1)\n",
    "### 876. Middle of the Linked List\n",
    "When comparing the number of position between 'head.next' and 'head.next.next' , there is a difference of 2.x. "
   ]
  },
  {
   "cell_type": "code",
   "execution_count": null,
   "metadata": {},
   "outputs": [],
   "source": [
    "# Definition for singly-linked list.\n",
    "class ListNode:\n",
    "    def __init__(self, val=0, next=None):\n",
    "        self.val = val\n",
    "        self.next = next\n",
    "class Solution:\n",
    "    def middleNode(self, head: Optional[ListNode]) -> Optional[ListNode]:\n",
    "        slow = fast = head\n",
    "        while fast and fast.next:\n",
    "            fast = fast.next.next\n",
    "            slow = slow.next\n",
    "            \n",
    "        return slow"
   ]
  },
  {
   "cell_type": "code",
   "execution_count": null,
   "metadata": {},
   "outputs": [],
   "source": []
  },
  {
   "cell_type": "code",
   "execution_count": null,
   "metadata": {},
   "outputs": [],
   "source": []
  }
 ],
 "metadata": {
  "kernelspec": {
   "display_name": "mywork",
   "language": "python",
   "name": "python3"
  },
  "language_info": {
   "codemirror_mode": {
    "name": "ipython",
    "version": 3
   },
   "file_extension": ".py",
   "mimetype": "text/x-python",
   "name": "python",
   "nbconvert_exporter": "python",
   "pygments_lexer": "ipython3",
   "version": "3.7.13"
  },
  "orig_nbformat": 4
 },
 "nbformat": 4,
 "nbformat_minor": 2
}
