{
 "cells": [
  {
   "cell_type": "markdown",
   "metadata": {},
   "source": [
    "# Day 8 (Sep 18)\n",
    "### 2. Add Two Numbers\n",
    "It is about ListNode. I can use the values of ListNode.\n",
    "... "
   ]
  },
  {
   "cell_type": "code",
   "execution_count": 13,
   "metadata": {},
   "outputs": [
    {
     "name": "stdout",
     "output_type": "stream",
     "text": [
      "0 <__main__.ListNode object at 0x7fb88810e790> 2 None\n"
     ]
    }
   ],
   "source": [
    "class ListNode:\n",
    "    def __init__(self, val=0, next=None):\n",
    "        self.val = val\n",
    "        self.next = next\n",
    "head = ListNode(0)\n",
    "head.next = ListNode(1) \n",
    "current = head.next \n",
    "current.next = ListNode(2)\n",
    "current = current.next\n",
    "print(head.val , head.next , current.val, current.next)"
   ]
  },
  {
   "cell_type": "code",
   "execution_count": 12,
   "metadata": {},
   "outputs": [
    {
     "name": "stdout",
     "output_type": "stream",
     "text": [
      "0\n",
      "2\n",
      "1\n"
     ]
    },
    {
     "data": {
      "text/plain": [
       "<__main__.ListNode at 0x7fb8870a5d90>"
      ]
     },
     "execution_count": 12,
     "metadata": {},
     "output_type": "execute_result"
    }
   ],
   "source": [
    "class ListNode:\n",
    "    def __init__(self, val=0, next=None):\n",
    "        self.val = val\n",
    "        self.next = next\n",
    "        \n",
    "head = ListNode(0)\n",
    "curr_node = head\n",
    "\n",
    "new_node = ListNode(2)\n",
    "curr_node.next = new_node\n",
    "curr_node = curr_node.next\n",
    "\n",
    "curr_node.next = ListNode(1)\n",
    "curr_node = curr_node.next \n",
    "\n",
    "node = head\n",
    "while node:\n",
    "    print(node.val)\n",
    "    node = node.next\n",
    "head.next"
   ]
  },
  {
   "cell_type": "markdown",
   "metadata": {},
   "source": [
    "# Day 9 (Sep 20)\n",
    "### 169. Majority Element\n",
    "I just wanna count all the values , because I have been analysis the data with python.\n",
    "There was so many columns and values , I can count each values. and then I can visualize the data.\n",
    "That's why I was thought I wanna know the count of all values. \n",
    "But there was hint for easy way. All the list have the count of majoristic value is always more than half of list length. If I look at the middle index value of the list , the value of major element always fill more than half of value length. \n",
    "\n",
    "\n",
    "The majority element is the element that appears more than [n/2] times. You may assume that the majority element always exists in the array.\n",
    "-> we can use index [n/2]\n",
    "-> we don't think about the same count of values"
   ]
  },
  {
   "cell_type": "code",
   "execution_count": 14,
   "metadata": {},
   "outputs": [],
   "source": [
    "class Solution:\n",
    "    def majorityElement(self, nums: List[int]) -> int:\n",
    "        n = len(nums)\n",
    "\n",
    "        dis_nums = set(nums)\n",
    "        result = dict()\n",
    "\n",
    "        for dis in dis_nums:\n",
    "            result[dis] = 0\n",
    "\n",
    "        for num in nums:\n",
    "            result[num] += 1\n",
    "\n",
    "        for res in result:\n",
    "            if result[res] == max(result.values()):\n",
    "                return res\n",
    "        \n",
    "        return nums[n//2]\n",
    "        "
   ]
  },
  {
   "cell_type": "code",
   "execution_count": null,
   "metadata": {},
   "outputs": [],
   "source": [
    "class Solution:\n",
    "    def majorityElement(self, nums: List[int]) -> int:\n",
    "        nums.sort()\n",
    "        n = len(nums)\n",
    "    \n",
    "        return nums[n//2]\n",
    "        "
   ]
  },
  {
   "cell_type": "markdown",
   "metadata": {},
   "source": [
    "# Day 10. (Sep 21)\n",
    "### 283. Move Zeroes\n",
    "Move all 0's to the end of an array nums. The first code is my solution, and the second one is someone else's solution on LeetCode.\n",
    "\n",
    "I want to move the indices of 0 values to the end of the array. In my initial solution, I remove a 0 value and add it to the end. However, this solution has a runtime of 781 ms. I believe the reason for this is that I perform calculations twice within a for loop. I think I can reduce the runtime by minimizing the calculations.\n",
    "\n",
    "There is an alternative solution: if a value is not 0, initialize the array with that value, and if the value is 0, skip it. In the last step, append a 0 value to the array to account for the remaining length."
   ]
  },
  {
   "cell_type": "code",
   "execution_count": null,
   "metadata": {},
   "outputs": [],
   "source": [
    "class Solution:\n",
    "    def moveZeroes(self, nums: List[int]) -> None:\n",
    "        \"\"\"\n",
    "        Do not return anything, modify nums in-place instead.\n",
    "        \"\"\"\n",
    "        \"\"\"for num in nums:\n",
    "            if num == 0:\n",
    "                nums.remove(num)\n",
    "                nums.append(num)\n",
    "            else:\n",
    "                pass\"\"\"\n",
    "        \n",
    "        index = 0\n",
    "        for num in nums:\n",
    "            if num != 0:\n",
    "                nums[index] = num\n",
    "                index += 1\n",
    "        while index < len(nums):\n",
    "            nums[index] = 0\n",
    "            index += 1\n",
    "        \n"
   ]
  }
 ],
 "metadata": {
  "kernelspec": {
   "display_name": "mywork",
   "language": "python",
   "name": "python3"
  },
  "language_info": {
   "codemirror_mode": {
    "name": "ipython",
    "version": 3
   },
   "file_extension": ".py",
   "mimetype": "text/x-python",
   "name": "python",
   "nbconvert_exporter": "python",
   "pygments_lexer": "ipython3",
   "version": "3.7.13"
  },
  "orig_nbformat": 4
 },
 "nbformat": 4,
 "nbformat_minor": 2
}
