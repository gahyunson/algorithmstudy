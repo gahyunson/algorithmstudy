{
 "cells": [
  {
   "cell_type": "markdown",
   "metadata": {},
   "source": [
    "# Array And Linked list\n",
    "\n",
    "### Linked list\n",
    "head node -> node1 -> node2 -> null\n",
    "\n",
    "1. insert\n",
    "1) head node -> node1 -x-> node2 -> null    \n",
    "node1에서 node2로 향하는 포인트 삭제\n",
    "2) head node -> node1 -> node1.5 -> node2 -> null    \n",
    "node1에서 node1.5로 향하는 포인트 추가,    \n",
    "node1.5에서 node2로 향하는 포인트 추가\n",
    "\n",
    "2. delete\n",
    "1) head node -x-> node1 -x-> node2 -> null    \n",
    "head node에서 node1로 향하는 것과 node1에서 node2로 향하는 포인트 삭제, node1 삭제\n",
    "2) head node -> node2 -> null    \n",
    "\n",
    "- 반복문을 이용하여 풀 수 있다.\n",
    "- 특정 노드 지정안하면 complexity : O(n)\n",
    "- 특정 노드 지정 complexity : O(1)\n",
    "\n",
    "어느 위치의 노드를 지정하지 않으면 전체 노드를 돌아야 하기 때문에,    \n",
    "n개의 node를 봐야해서, **complexity는 O(n)**이 된다.\n",
    "특정 노드를 지정하면 해당 위치의 노드만 보면돼서 O(1)이 된다.\n",
    "\n",
    "Random access 불가능, K번째 값을 찾으려면 head부터 포인터를 따라가야한다.\n",
    "\n",
    "### Array\n",
    "K번째 새로운 값을 추가/삭제하면, O(N-K) 복잡도가 나온다.\n",
    "\n",
    "Random access 가능, complexity: O(1)\n",
    "\n",
    "---\n",
    "Random access 필요유무에 따라, linked list, array 어떤걸 사용하는게 나을 지 결정할 수 있을 것"
   ]
  },
  {
   "cell_type": "code",
   "execution_count": null,
   "metadata": {},
   "outputs": [],
   "source": []
  }
 ],
 "metadata": {
  "language_info": {
   "name": "python"
  }
 },
 "nbformat": 4,
 "nbformat_minor": 2
}
