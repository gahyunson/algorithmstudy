{
 "cells": [
  {
   "cell_type": "code",
   "execution_count": null,
   "metadata": {},
   "outputs": [],
   "source": [
    "N개의 길이를 가진 배열에서 부분 배열의 합을 구하려고 할때, \n",
    "반복문을 이용하면 O(N) 시간이 걸리는데, 이것을 Prefix Sum을 이용해서 O(1)에 구할 수 있다.\n",
    "\n",
    "내가 보기에 이것은 피보나치 수열 방식과 매우 비슷하다.\n",
    "\n",
    "total_sum[2]=total_sum[1]+A[1]\n",
    "total_sum[3]=total_sum[2]+A[2]\n",
    "이다.\n",
    "\n",
    "만약 구간 [1,3] 합을 구하고자 한다면,\n",
    "total_sum[4]-total_sum[1]=A[0]+A[1]+A[2]+A[3]-A[0]\n",
    "가 된다.\n",
    "\n",
    "즉, [s,e]구간 값은 total_sum[e+1]-total_sum[s]인 것이다.\n"
   ]
  },
  {
   "cell_type": "markdown",
   "metadata": {},
   "source": [
    "total_sum 배열을 처음 선언해줄 때 크기는\n",
    "\n",
    "N 이 더해야하는 숫자들의 갯수라고 할 때,    \n",
    "1 ≤ N ≤ 100,000 이라면, total_sum은 100001 크기로 한다.    \n",
    "왜냐면 100,000번째 값도 더한 값은 100,001번째에 저장해야하기 때문.\n"
   ]
  },
  {
   "cell_type": "code",
   "execution_count": null,
   "metadata": {},
   "outputs": [],
   "source": []
  }
 ],
 "metadata": {
  "language_info": {
   "name": "python"
  }
 },
 "nbformat": 4,
 "nbformat_minor": 2
}
