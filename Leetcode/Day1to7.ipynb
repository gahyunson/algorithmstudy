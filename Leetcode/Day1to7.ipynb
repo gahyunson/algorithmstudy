{
 "cells": [
  {
   "cell_type": "markdown",
   "metadata": {},
   "source": [
    "## Day1 (Aug 25, 2023)\n",
    "### 20. Valid Parentheses\n",
    "\n",
    "Using stack concept - append, pop used"
   ]
  },
  {
   "cell_type": "code",
   "execution_count": 55,
   "metadata": {},
   "outputs": [
    {
     "data": {
      "text/plain": [
       "False"
      ]
     },
     "execution_count": 55,
     "metadata": {},
     "output_type": "execute_result"
    }
   ],
   "source": [
    "class Solution:\n",
    "    def isValid(self, s: str) -> bool:\n",
    "        pairs = {'(':')', '{':'}', '[':']'}\n",
    "        stack=[]\n",
    "\n",
    "        if len(s)<2:\n",
    "            return False\n",
    "        else:\n",
    "            for c in s:\n",
    "                if c in pairs.keys():\n",
    "                    stack.append(c)\n",
    "                elif c in pairs.values():\n",
    "                    if len(stack)==0 or c != pairs[stack[-1]]:\n",
    "                        return False\n",
    "                    elif c == pairs[stack[-1]]:\n",
    "                        stack.pop()\n",
    "        if len(stack) == 0:\n",
    "            return True\n",
    "Solution().isValid(\"[\")"
   ]
  },
  {
   "cell_type": "markdown",
   "metadata": {},
   "source": [
    "## Day2 (Aug 27, 2023)\n",
    "### 121. Best Time to Buy and Sell Stock\n",
    "\n",
    "\n",
    "Using List type - max function\n",
    "\n",
    "Why did fail with minimum index :     \n",
    "It solely focuses on identifying the minimum value. ignored other potential maximum gain values.\n",
    "\n",
    "minimum index값을 찾고 비교하는 방법이 안되는 이유 :    \n",
    "무조건 minimum 숫자만 찾아 계산하기 때문에, 다른 최대 이득 비용은 계산하지 못한다."
   ]
  },
  {
   "cell_type": "code",
   "execution_count": 22,
   "metadata": {},
   "outputs": [
    {
     "data": {
      "text/plain": [
       "4"
      ]
     },
     "execution_count": 22,
     "metadata": {},
     "output_type": "execute_result"
    }
   ],
   "source": [
    "from typing import List\n",
    "\n",
    "class Solution:\n",
    "    def maxProfit(self, prices: List[int]) -> int:\n",
    "        # profit=0\n",
    "        # if len(prices)>1:\n",
    "        #     minIdx = prices.index(min(prices[:-1]))\n",
    "        #     buy = prices[minIdx]\n",
    "        #     for sell in prices[minIdx+1:]:\n",
    "        #         if buy < sell :\n",
    "        #             profit = max(profit, sell-buy)\n",
    "        #     return profit\n",
    "        # else:\n",
    "        #     return profit\n",
    "        profit = 0\n",
    "        buy = prices[0] \n",
    "        for sell in prices[1:]:\n",
    "            if sell > buy: \n",
    "                profit = max(profit, sell-buy)\n",
    "            else:\n",
    "                buy = sell\n",
    "        return profit\n",
    "    \n",
    "prices = [3,2,6,5,0,3]\n",
    "Solution().maxProfit(prices)\n"
   ]
  },
  {
   "cell_type": "markdown",
   "metadata": {},
   "source": [
    "## Day3 (Aug 28, 2023)\n",
    "### 9. Palindrome Number\n",
    "\n",
    "Using Index of String"
   ]
  },
  {
   "cell_type": "code",
   "execution_count": 1,
   "metadata": {},
   "outputs": [
    {
     "data": {
      "text/plain": [
       "False"
      ]
     },
     "execution_count": 1,
     "metadata": {},
     "output_type": "execute_result"
    }
   ],
   "source": [
    "class Solution:\n",
    "    def isPalindrome(self, x: int) -> bool:\n",
    "        str_x = str(x)[::-1]\n",
    "        if str(x) == str_x:\n",
    "            return True\n",
    "        else:\n",
    "            return False\n",
    "Solution().isPalindrome(-121)"
   ]
  },
  {
   "cell_type": "markdown",
   "metadata": {},
   "source": [
    "# Day4 (Aug 31,2023)\n",
    "### Contains Duplicate\n",
    "\n",
    "using set() : 460ms, 31.9MB (Runtime, Memory)\n",
    "\n",
    "using sort() : 531ms, 28.1MB"
   ]
  },
  {
   "cell_type": "code",
   "execution_count": 2,
   "metadata": {},
   "outputs": [
    {
     "data": {
      "text/plain": [
       "True"
      ]
     },
     "execution_count": 2,
     "metadata": {},
     "output_type": "execute_result"
    }
   ],
   "source": [
    "from typing import List\n",
    "class Solution:\n",
    "    def containsDuplicate(self, nums: List[int]) -> bool:\n",
    "        # if len(nums) != len(set(nums)):\n",
    "        #     return True\n",
    "        # else: \n",
    "        #     return False\n",
    "        nums.sort()\n",
    "        for i in range(len(nums)-1):\n",
    "            if nums[i] == nums[i+1]:\n",
    "                return True\n",
    "        return False\n",
    "solution = Solution()\n",
    "solution.containsDuplicate([1,1,2])"
   ]
  },
  {
   "cell_type": "markdown",
   "metadata": {},
   "source": [
    "# Day5 (Sep 1, 2023)\n",
    "### 88. Merge Sorted Array\n",
    "\n",
    "The main issue was that the description was too difficult for me to understand. I am currently in the process of learning and becoming familiar with situations in English. They provided me with the values of 'm' and 'n,' which were crucial points. This allows us to determine the starting index of the '0's. This information is very important and can be utilized.\n",
    "I already had the key."
   ]
  },
  {
   "cell_type": "code",
   "execution_count": 7,
   "metadata": {},
   "outputs": [
    {
     "name": "stdout",
     "output_type": "stream",
     "text": [
      "[1, 2, 2, 3, 5, 6]\n"
     ]
    }
   ],
   "source": [
    "from typing import List\n",
    "class Solution:\n",
    "    def merge(self, nums1: List[int], m: int, nums2: List[int], n: int) -> None:\n",
    "        for i in range(n):\n",
    "            nums1[m+i]=nums2[i]\n",
    "        nums1.sort()\n",
    "solution = Solution()\n",
    "nums1 = [1, 2, 3, 0, 0, 0]\n",
    "m = 3\n",
    "nums2 = [2, 5, 6]\n",
    "n = 3\n",
    "solution.merge(nums1, m, nums2, n)\n",
    "print(nums1)"
   ]
  },
  {
   "cell_type": "markdown",
   "metadata": {},
   "source": [
    "# Day6 (Sep 2, 2023)\n",
    "### 33. Search in Rotated Sorted Array\n",
    "\n",
    "using index()"
   ]
  },
  {
   "cell_type": "code",
   "execution_count": 2,
   "metadata": {},
   "outputs": [
    {
     "data": {
      "text/plain": [
       "4"
      ]
     },
     "execution_count": 2,
     "metadata": {},
     "output_type": "execute_result"
    }
   ],
   "source": [
    "from typing import List\n",
    "class Solution:\n",
    "    def search(self, nums: List[int], target: int) -> int:\n",
    "        if target in nums:\n",
    "            return nums.index(target)\n",
    "        else:\n",
    "            return -1\n",
    "Solution().search([4,5,6,7,0,1,2], 0)"
   ]
  },
  {
   "cell_type": "markdown",
   "metadata": {},
   "source": [
    "# Day7 (Sep 3, 2023)\n",
    "### 74. Search a 2D Matrix\n",
    "Binary Search "
   ]
  },
  {
   "cell_type": "code",
   "execution_count": 2,
   "metadata": {},
   "outputs": [
    {
     "data": {
      "text/plain": [
       "True"
      ]
     },
     "execution_count": 2,
     "metadata": {},
     "output_type": "execute_result"
    }
   ],
   "source": [
    "from typing import List\n",
    "class Solution:\n",
    "    def searchMatrix(self, matrix: List[List[int]], target: int) -> bool:\n",
    "        # 오름차순 정렬 , 위 행의 숫자는 아래 행 보다 작음, \n",
    "        # 복잡도 \n",
    "        # target이 matrix 안에 잇는지 확인 \n",
    "\n",
    "        # for m in matrix:\n",
    "        #     if target in m:\n",
    "        #         return True\n",
    "        # return False\n",
    "        # print(matrix[0][0])\n",
    "        # if target < matrix[1][0]:\n",
    "        #     if target in matrix[0]:\n",
    "        #         return True\n",
    "        # elif target < matrix[2][0]:\n",
    "        #     if target in matrix[1]:\n",
    "        #         return True\n",
    "        # else:\n",
    "        #     if target in matrix[2]:\n",
    "        #         return True\n",
    "        # if len(matrix) > 1:\n",
    "        #     for i in range(len(matrix)):\n",
    "        #         if target < matrix[i+1][0]:\n",
    "        #             if target in matrix[i]:\n",
    "        #                 return True\n",
    "        #             else:\n",
    "        #                 continue\n",
    "        # else:\n",
    "        #     if target in matrix[-1]:\n",
    "        #         return True\n",
    "        # return False\n",
    "        rows, columns = len(matrix), len(matrix[0])\n",
    "        top, bottom = 0, rows-1\n",
    "\n",
    "        while top <= bottom:\n",
    "            row = (top + bottom)//2\n",
    "            if target < matrix[row][0]:\n",
    "                bottom = row - 1\n",
    "            elif target > matrix[row][-1]:\n",
    "                top = row + 1\n",
    "            else:\n",
    "                break\n",
    "                \n",
    "        row = (top + bottom)//2\n",
    "        l, r = 0, columns -1\n",
    "        while l <= r :\n",
    "            mid = (l+r)//2\n",
    "            if target < matrix[row][mid]:\n",
    "                r=mid-1\n",
    "            elif target > matrix[row][mid]:\n",
    "                l = mid+1\n",
    "            else:\n",
    "                return True\n",
    "        return False\n",
    "\n",
    "Solution().searchMatrix(matrix = [[1,3,5,7],[10,11,16,20],[23,30,34,60]], target = 3)"
   ]
  }
 ],
 "metadata": {
  "kernelspec": {
   "display_name": "mywork",
   "language": "python",
   "name": "python3"
  },
  "language_info": {
   "codemirror_mode": {
    "name": "ipython",
    "version": 3
   },
   "file_extension": ".py",
   "mimetype": "text/x-python",
   "name": "python",
   "nbconvert_exporter": "python",
   "pygments_lexer": "ipython3",
   "version": "3.7.13"
  },
  "orig_nbformat": 4
 },
 "nbformat": 4,
 "nbformat_minor": 2
}
