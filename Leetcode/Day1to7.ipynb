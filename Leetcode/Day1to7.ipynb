{
 "cells": [
  {
   "cell_type": "markdown",
   "metadata": {},
   "source": [
    "## Day1 (Aug 25, 2023)\n",
    "### 20. Valid Parentheses\n",
    "\n",
    "stack 자료구조 사용 - append, pop 함수 이용"
   ]
  },
  {
   "cell_type": "code",
   "execution_count": 55,
   "metadata": {},
   "outputs": [
    {
     "data": {
      "text/plain": [
       "False"
      ]
     },
     "execution_count": 55,
     "metadata": {},
     "output_type": "execute_result"
    }
   ],
   "source": [
    "class Solution:\n",
    "    def isValid(self, s: str) -> bool:\n",
    "        pairs = {'(':')', '{':'}', '[':']'}\n",
    "        stack=[]\n",
    "\n",
    "        if len(s)<2:\n",
    "            return False\n",
    "        else:\n",
    "            for c in s:\n",
    "                if c in pairs.keys():\n",
    "                    stack.append(c)\n",
    "                elif c in pairs.values():\n",
    "                    if len(stack)==0 or c != pairs[stack[-1]]:\n",
    "                        return False\n",
    "                    elif c == pairs[stack[-1]]:\n",
    "                        stack.pop()\n",
    "        if len(stack) == 0:\n",
    "            return True\n",
    "Solution().isValid(\"[\")"
   ]
  }
 ],
 "metadata": {
  "kernelspec": {
   "display_name": "mywork",
   "language": "python",
   "name": "python3"
  },
  "language_info": {
   "codemirror_mode": {
    "name": "ipython",
    "version": 3
   },
   "file_extension": ".py",
   "mimetype": "text/x-python",
   "name": "python",
   "nbconvert_exporter": "python",
   "pygments_lexer": "ipython3",
   "version": "3.7.13"
  },
  "orig_nbformat": 4
 },
 "nbformat": 4,
 "nbformat_minor": 2
}
