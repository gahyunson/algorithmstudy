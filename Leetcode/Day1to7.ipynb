{
 "cells": [
  {
   "cell_type": "markdown",
   "metadata": {},
   "source": [
    "## Day1 (Aug 25, 2023)\n",
    "### 20. Valid Parentheses\n",
    "\n",
    "stack 자료구조 사용 - append, pop 함수 이용"
   ]
  },
  {
   "cell_type": "code",
   "execution_count": 55,
   "metadata": {},
   "outputs": [
    {
     "data": {
      "text/plain": [
       "False"
      ]
     },
     "execution_count": 55,
     "metadata": {},
     "output_type": "execute_result"
    }
   ],
   "source": [
    "class Solution:\n",
    "    def isValid(self, s: str) -> bool:\n",
    "        pairs = {'(':')', '{':'}', '[':']'}\n",
    "        stack=[]\n",
    "\n",
    "        if len(s)<2:\n",
    "            return False\n",
    "        else:\n",
    "            for c in s:\n",
    "                if c in pairs.keys():\n",
    "                    stack.append(c)\n",
    "                elif c in pairs.values():\n",
    "                    if len(stack)==0 or c != pairs[stack[-1]]:\n",
    "                        return False\n",
    "                    elif c == pairs[stack[-1]]:\n",
    "                        stack.pop()\n",
    "        if len(stack) == 0:\n",
    "            return True\n",
    "Solution().isValid(\"[\")"
   ]
  },
  {
   "cell_type": "markdown",
   "metadata": {},
   "source": [
    "## Day2 (Aug 27, 2023)\n",
    "### 121. Best Time to Buy and Sell Stock\n",
    "\n",
    "\n",
    "List 자료구조 사용 - max 함수 이용\n",
    "\n",
    "minimum index값을 찾고 비교하는 방법이 안되는 이유 :\n",
    "무조건 minimum 숫자만 찾아 계산하기 때문에, 다른 최대 이득 비용은 계산하지 못한다."
   ]
  },
  {
   "cell_type": "code",
   "execution_count": 22,
   "metadata": {},
   "outputs": [
    {
     "data": {
      "text/plain": [
       "4"
      ]
     },
     "execution_count": 22,
     "metadata": {},
     "output_type": "execute_result"
    }
   ],
   "source": [
    "from typing import List\n",
    "\n",
    "class Solution:\n",
    "    def maxProfit(self, prices: List[int]) -> int:\n",
    "        # profit=0\n",
    "        # if len(prices)>1:\n",
    "        #     minIdx = prices.index(min(prices[:-1]))\n",
    "        #     buy = prices[minIdx]\n",
    "        #     for sell in prices[minIdx+1:]:\n",
    "        #         if buy < sell :\n",
    "        #             profit = max(profit, sell-buy)\n",
    "        #     return profit\n",
    "        # else:\n",
    "        #     return profit\n",
    "        profit = 0\n",
    "        buy = prices[0] \n",
    "        for sell in prices[1:]:\n",
    "            if sell > buy: \n",
    "                profit = max(profit, sell-buy)\n",
    "            else:\n",
    "                buy = sell\n",
    "        return profit\n",
    "    \n",
    "prices = [3,2,6,5,0,3]\n",
    "Solution().maxProfit(prices)\n"
   ]
  }
 ],
 "metadata": {
  "kernelspec": {
   "display_name": "mywork",
   "language": "python",
   "name": "python3"
  },
  "language_info": {
   "codemirror_mode": {
    "name": "ipython",
    "version": 3
   },
   "file_extension": ".py",
   "mimetype": "text/x-python",
   "name": "python",
   "nbconvert_exporter": "python",
   "pygments_lexer": "ipython3",
   "version": "3.7.13"
  },
  "orig_nbformat": 4
 },
 "nbformat": 4,
 "nbformat_minor": 2
}
