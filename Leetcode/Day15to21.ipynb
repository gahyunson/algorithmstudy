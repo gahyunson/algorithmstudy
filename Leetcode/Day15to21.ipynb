{
 "cells": [
  {
   "cell_type": "markdown",
   "metadata": {},
   "source": [
    "# Day 15 (Oct 2)\n",
    "### 234. Palindrome Linked List\n",
    "I just noticed can compare if type is list.\n",
    "so, I compared with list and reverse_list.\n",
    "\n",
    "**Complexity**    \n",
    "Time complexity: 599ms    \n",
    "Space complexity: 48.68MB"
   ]
  },
  {
   "cell_type": "code",
   "execution_count": null,
   "metadata": {},
   "outputs": [],
   "source": [
    "# Definition for singly-linked list.\n",
    "# class ListNode:\n",
    "#     def __init__(self, val=0, next=None):\n",
    "#         self.val = val\n",
    "#         self.next = next\n",
    "class Solution:\n",
    "    def isPalindrome(self, head: Optional[ListNode]) -> bool:\n",
    "        stack = []\n",
    "        while head:\n",
    "            stack.append(head.val)\n",
    "            head = head.next\n",
    "        \n",
    "        if stack == stack[::-1]:\n",
    "            return True\n",
    "        return False"
   ]
  },
  {
   "cell_type": "markdown",
   "metadata": {},
   "source": [
    "# Day 16 (Oct 3)\n",
    "### 125. Valid Palindrome\n",
    "If the input string, when converted to lowercase and all non-alphanumeric characters removed, is equal to its reverse, return True!"
   ]
  },
  {
   "cell_type": "code",
   "execution_count": 1,
   "metadata": {},
   "outputs": [
    {
     "data": {
      "text/plain": [
       "False"
      ]
     },
     "execution_count": 1,
     "metadata": {},
     "output_type": "execute_result"
    }
   ],
   "source": [
    "class Solution:\n",
    "    def isPalindrome(self, s: str) -> bool:\n",
    "        s = s.lower()\n",
    "        \n",
    "        filter_s = \"\"\n",
    "        for i in range(len(s)):\n",
    "            if s[i].isalnum():\n",
    "                filter_s+=s[i]\n",
    "        if filter_s == filter_s[::-1]:\n",
    "            return True\n",
    "        return False\n",
    "Solution().isPalindrome(\"Hi, i'm in the rain.\")"
   ]
  },
  {
   "cell_type": "markdown",
   "metadata": {},
   "source": [
    "# Day 17 (Oct 6)\n",
    "### 242. Valid Anagram\n",
    "I wanna try with replace function. But there was problem if s already empty but still something in t. I'm searching for another solution.\n",
    "I can count the alphabets or compare with sorted."
   ]
  },
  {
   "cell_type": "code",
   "execution_count": null,
   "metadata": {},
   "outputs": [],
   "source": [
    "class Solution:\n",
    "    def isAnagram(self, s: str, t: str) -> bool:\n",
    "        return sorted(s) == sorted(t)\n",
    "        # if len(s)!=len(t):\n",
    "        #     return False\n",
    "\n",
    "        # for a in t:\n",
    "        #     s = s.replace(a,\"\")\n",
    "        # print(s)\n",
    "        # if not s:\n",
    "        #     return True\n",
    "        # else:\n",
    "        #     return False"
   ]
  }
 ],
 "metadata": {
  "kernelspec": {
   "display_name": "mywork",
   "language": "python",
   "name": "python3"
  },
  "language_info": {
   "codemirror_mode": {
    "name": "ipython",
    "version": 3
   },
   "file_extension": ".py",
   "mimetype": "text/x-python",
   "name": "python",
   "nbconvert_exporter": "python",
   "pygments_lexer": "ipython3",
   "version": "3.7.13"
  },
  "orig_nbformat": 4
 },
 "nbformat": 4,
 "nbformat_minor": 2
}
