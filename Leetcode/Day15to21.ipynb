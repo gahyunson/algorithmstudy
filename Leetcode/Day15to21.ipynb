{
 "cells": [
  {
   "cell_type": "markdown",
   "metadata": {},
   "source": [
    "# Day 15 (Oct 2)\n",
    "### 234. Palindrome Linked List\n",
    "I just noticed can compare if type is list.\n",
    "so, I compared with list and reverse_list.\n",
    "\n",
    "**Complexity**    \n",
    "Time complexity: 599ms    \n",
    "Space complexity: 48.68MB"
   ]
  },
  {
   "cell_type": "code",
   "execution_count": null,
   "metadata": {},
   "outputs": [],
   "source": [
    "# Definition for singly-linked list.\n",
    "# class ListNode:\n",
    "#     def __init__(self, val=0, next=None):\n",
    "#         self.val = val\n",
    "#         self.next = next\n",
    "class Solution:\n",
    "    def isPalindrome(self, head: Optional[ListNode]) -> bool:\n",
    "        stack = []\n",
    "        while head:\n",
    "            stack.append(head.val)\n",
    "            head = head.next\n",
    "        \n",
    "        if stack == stack[::-1]:\n",
    "            return True\n",
    "        return False"
   ]
  },
  {
   "cell_type": "markdown",
   "metadata": {},
   "source": [
    "# Day 16 (Oct 3)\n",
    "### 125. Valid Palindrome\n",
    "If the input string, when converted to lowercase and all non-alphanumeric characters removed, is equal to its reverse, return True!"
   ]
  },
  {
   "cell_type": "code",
   "execution_count": 1,
   "metadata": {},
   "outputs": [
    {
     "data": {
      "text/plain": [
       "False"
      ]
     },
     "execution_count": 1,
     "metadata": {},
     "output_type": "execute_result"
    }
   ],
   "source": [
    "class Solution:\n",
    "    def isPalindrome(self, s: str) -> bool:\n",
    "        s = s.lower()\n",
    "        \n",
    "        filter_s = \"\"\n",
    "        for i in range(len(s)):\n",
    "            if s[i].isalnum():\n",
    "                filter_s+=s[i]\n",
    "        if filter_s == filter_s[::-1]:\n",
    "            return True\n",
    "        return False\n",
    "Solution().isPalindrome(\"Hi, i'm in the rain.\")"
   ]
  },
  {
   "cell_type": "markdown",
   "metadata": {},
   "source": [
    "# Day 17 (Oct 6)\n",
    "### 242. Valid Anagram\n",
    "I wanna try with replace function. But there was problem if s already empty but still something in t. I'm searching for another solution.\n",
    "I can count the alphabets or compare with sorted."
   ]
  },
  {
   "cell_type": "code",
   "execution_count": null,
   "metadata": {},
   "outputs": [],
   "source": [
    "class Solution:\n",
    "    def isAnagram(self, s: str, t: str) -> bool:\n",
    "        return sorted(s) == sorted(t)\n",
    "        # if len(s)!=len(t):\n",
    "        #     return False\n",
    "\n",
    "        # for a in t:\n",
    "        #     s = s.replace(a,\"\")\n",
    "        # print(s)\n",
    "        # if not s:\n",
    "        #     return True\n",
    "        # else:\n",
    "        #     return False"
   ]
  },
  {
   "cell_type": "markdown",
   "metadata": {},
   "source": [
    "# Day 18 (Oct 7)\n",
    "### 409. Longest Palindrome\n",
    "처음 봤을 땐 문자열을 여러가지로 조합하여 palidrome을 만족하는지 확인해야 한다고 생각했지만,\n",
    "굳이 문자열을 나열하여 확인하지 않아도 된다고 알아챘다.\n",
    "그래서 문자열의 각 캐릭터가 몇개 있는지 확인하여 바로 문자열의 길이를 카운트하는 것을 시도했다.\n",
    "만약 캐릭터가 짝수개가 있다면 무조건 palidrome을 만족하므로 palidrome 문자열 길이에 모두 포함시킬 수 있다.\n",
    "만약 홀수라면 단 한번의 홀수를 모두 포함 시킬 수 있다. 만약 해당 캐릭터가 3개 이상있다면 2개의 쌍이 존재하고 1개는 중아에 둘 수 있으므로,\n",
    "최초 1번의 홀수는 인정할 수 있다.\n",
    "아래는 문자열의 유니크값을 구하여, 주어진 문자열에 몇번있는지 확인하였다. 그리고 홀수인 캐릭터가 나온적있는지는 one_exit를 이용하여 표기하여 구분하였다. \n",
    "\n",
    "When I first encountered the problem, I thought I needed to check if a string could form a palindrome by combining its characters in various ways. However, I realized that it wasn't necessary to actually generate and check all possible combinations. Instead, I could determine the solution by counting the occurrences of each character in the string.\n",
    "\n",
    "If every character occurs an even number of times, then it's guaranteed that the string can be arranged into a palindrome. In this case, the length of the palindrome string would include all characters.\n",
    "\n",
    "If there's exactly one character with an odd count, it can also be included in the palindrome string, as it would be the middle character of the palindrome. If there are more than one character with an odd count, you can choose any one of them to include in the palindrome, and the rest can be used in pairs to form the palindrome."
   ]
  },
  {
   "cell_type": "code",
   "execution_count": 1,
   "metadata": {},
   "outputs": [
    {
     "data": {
      "text/plain": [
       "9"
      ]
     },
     "execution_count": 1,
     "metadata": {},
     "output_type": "execute_result"
    }
   ],
   "source": [
    "class Solution:\n",
    "    def longestPalindrome(self, s: str) -> int:\n",
    "        s_set = set(s)\n",
    "        result = 0\n",
    "        one_exit = 0\n",
    "        for s_cha in s_set:\n",
    "            if s.count(s_cha)%2==0:\n",
    "                result += s.count(s_cha)\n",
    "            else:\n",
    "                if one_exit == 0:\n",
    "                    result += s.count(s_cha)\n",
    "                    one_exit = 1\n",
    "                else:\n",
    "                    result += (s.count(s_cha) - 1)\n",
    "        return result\n",
    "Solution().longestPalindrome(\"absdfasssss\")\n",
    "# Runtime : 38ms , Memory : 16.3MB"
   ]
  },
  {
   "cell_type": "code",
   "execution_count": 2,
   "metadata": {},
   "outputs": [
    {
     "data": {
      "text/plain": [
       "9"
      ]
     },
     "execution_count": 2,
     "metadata": {},
     "output_type": "execute_result"
    }
   ],
   "source": [
    "class Solution:\n",
    "    def longestPalindrome(self, s: str) -> int:\n",
    "        s_set = set(s)\n",
    "        result = 0\n",
    "        for s_cha in s_set:\n",
    "            result += (s.count(s_cha)//2)*2\n",
    "        if len(s) == result:\n",
    "            return result\n",
    "        else:\n",
    "            return (result + 1)\n",
    "Solution().longestPalindrome(\"absdfasssss\")\n",
    "# Runtime : 45ms , Memory : 16.34MB"
   ]
  },
  {
   "cell_type": "code",
   "execution_count": null,
   "metadata": {},
   "outputs": [],
   "source": []
  }
 ],
 "metadata": {
  "kernelspec": {
   "display_name": "mywork",
   "language": "python",
   "name": "python3"
  },
  "language_info": {
   "codemirror_mode": {
    "name": "ipython",
    "version": 3
   },
   "file_extension": ".py",
   "mimetype": "text/x-python",
   "name": "python",
   "nbconvert_exporter": "python",
   "pygments_lexer": "ipython3",
   "version": "3.7.13"
  },
  "orig_nbformat": 4
 },
 "nbformat": 4,
 "nbformat_minor": 2
}
